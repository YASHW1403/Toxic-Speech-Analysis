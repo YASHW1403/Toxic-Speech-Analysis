{
 "cells": [
  {
   "cell_type": "code",
   "execution_count": 1,
   "id": "7dee30b0",
   "metadata": {},
   "outputs": [
    {
     "name": "stderr",
     "output_type": "stream",
     "text": [
      "c:\\Users\\YASH SAMIR WADEKAR\\AppData\\Local\\Programs\\Python\\Python313\\Lib\\site-packages\\tqdm\\auto.py:21: TqdmWarning: IProgress not found. Please update jupyter and ipywidgets. See https://ipywidgets.readthedocs.io/en/stable/user_install.html\n",
      "  from .autonotebook import tqdm as notebook_tqdm\n"
     ]
    }
   ],
   "source": [
    "from transformers import AutoTokenizer, AutoModelForSequenceClassification\n",
    "import torch\n",
    "import numpy as np\n",
    "\n",
    "# Load tokenizer and model\n",
    "model_name = \"unitary/toxic-bert\"\n",
    "tokenizer = AutoTokenizer.from_pretrained(model_name)\n",
    "model = AutoModelForSequenceClassification.from_pretrained(model_name)\n",
    "\n",
    "# Labels the model uses\n",
    "labels = ['toxicity', 'severe_toxicity', 'obscene', 'identity_attack', 'insult', 'threat']\n",
    "\n",
    "def predict_toxicity(text):\n",
    "    inputs = tokenizer(text, return_tensors=\"pt\", truncation=True, padding=True)\n",
    "    with torch.no_grad():\n",
    "        outputs = model(**inputs)\n",
    "    \n",
    "    scores = torch.sigmoid(outputs.logits)[0].numpy()\n",
    "    results = {label: float(score) for label, score in zip(labels, scores)}\n",
    "\n",
    "    # Decide if it's inappropriate based on any high score\n",
    "    toxic_flags = [label for label, score in results.items() if score > 0.5]\n",
    "    \n",
    "    return \"inappropriate\" if toxic_flags else \"appropriate\"\n"
   ]
  },
  {
   "cell_type": "code",
   "execution_count": 16,
   "id": "6c66b6be",
   "metadata": {},
   "outputs": [
    {
     "name": "stdout",
     "output_type": "stream",
     "text": [
      "appropriate\n",
      "appropriate\n",
      "appropriate\n"
     ]
    }
   ],
   "source": [
    "print(predict_toxicity(\"very bad wesbite and good content\"))\n",
    "print(predict_toxicity(\"bad person for wesbite\"))\n",
    "print(predict_toxicity(\"You are a good !\"))\n"
   ]
  },
  {
   "cell_type": "code",
   "execution_count": null,
   "id": "1b126f4a",
   "metadata": {},
   "outputs": [],
   "source": []
  }
 ],
 "metadata": {
  "kernelspec": {
   "display_name": "Python 3",
   "language": "python",
   "name": "python3"
  },
  "language_info": {
   "codemirror_mode": {
    "name": "ipython",
    "version": 3
   },
   "file_extension": ".py",
   "mimetype": "text/x-python",
   "name": "python",
   "nbconvert_exporter": "python",
   "pygments_lexer": "ipython3",
   "version": "3.13.2"
  }
 },
 "nbformat": 4,
 "nbformat_minor": 5
}
